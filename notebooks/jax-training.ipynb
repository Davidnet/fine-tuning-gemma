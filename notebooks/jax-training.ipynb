{
 "cells": [
  {
   "cell_type": "code",
   "execution_count": 1,
   "metadata": {},
   "outputs": [],
   "source": [
    "from google.cloud import aiplatform\n",
    "import os\n",
    "from datetime import datetime"
   ]
  },
  {
   "cell_type": "code",
   "execution_count": 2,
   "metadata": {},
   "outputs": [],
   "source": [
    "PROJECT_ID = \"mlops-explorations\"\n",
    "REGION = \"us-central1\"\n",
    "BUCKET_URI = \"gs://jax-fine-tuning-gemma\"\n",
    "SERVICE_ACCOUNT = \"939282436854-compute@developer.gserviceaccount.com\"\n",
    "jsonl_dataset_file = \"https://huggingface.co/datasets/databricks/databricks-dolly-15k/resolve/main/databricks-dolly-15k.jsonl\"\n",
    "# TODO(davidnet) Copy the dataset to the bucket\n",
    "jsonl_dataset_uri = f\"{BUCKET_URI}/dataset.jsonl\"\n",
    "jsonl_dataset_uri_gcsfuse = jsonl_dataset_uri.replace(\"gs://\", \"/gcs/\")\n",
    "KERAS_TRAIN_DOCKER_URI = \"us-docker.pkg.dev/vertex-ai/vertex-vision-model-garden-dockers/jax-keras-train-tpu:20240220_0936_RC01\"\n",
    "STAGING_BUCKET = os.path.join(BUCKET_URI, \"temporal\")\n",
    "aiplatform.init(project=PROJECT_ID, location=REGION, staging_bucket=STAGING_BUCKET)"
   ]
  },
  {
   "cell_type": "code",
   "execution_count": 3,
   "metadata": {},
   "outputs": [],
   "source": [
    "def get_job_name_with_datetime(prefix: str) -> str:\n",
    "    \"\"\"Gets the job name with date time when triggering training or deployment\n",
    "    jobs in Vertex AI.\n",
    "    \"\"\"\n",
    "    return prefix + datetime.now().strftime(\"_%Y%m%d_%H%M%S\")"
   ]
  },
  {
   "cell_type": "code",
   "execution_count": 4,
   "metadata": {},
   "outputs": [],
   "source": [
    "template = \"Instruction: {instruction} Response: {response}\"\n",
    "tfds_dataset_name = \"\"\n",
    "tfds_dataset_split = \"train\"\n",
    "\n"
   ]
  },
  {
   "cell_type": "code",
   "execution_count": 5,
   "metadata": {},
   "outputs": [
    {
     "name": "stdout",
     "output_type": "stream",
     "text": [
      "Training Output directory:\n",
      "gs://jax-fine-tuning-gemma/temporal/aiplatform-custom-training-2024-04-08-03:30:45.873 \n",
      "View Training:\n",
      "https://console.cloud.google.com/ai/platform/locations/us-central1/training/5120172797238181888?project=939282436854\n",
      "View backing custom job:\n",
      "https://console.cloud.google.com/ai/platform/locations/us-central1/training/6002343961551699968?project=939282436854\n",
      "CustomContainerTrainingJob projects/939282436854/locations/us-central1/trainingPipelines/5120172797238181888 current state:\n",
      "PipelineState.PIPELINE_STATE_RUNNING\n",
      "CustomContainerTrainingJob projects/939282436854/locations/us-central1/trainingPipelines/5120172797238181888 current state:\n",
      "PipelineState.PIPELINE_STATE_RUNNING\n",
      "CustomContainerTrainingJob projects/939282436854/locations/us-central1/trainingPipelines/5120172797238181888 current state:\n",
      "PipelineState.PIPELINE_STATE_RUNNING\n",
      "CustomContainerTrainingJob projects/939282436854/locations/us-central1/trainingPipelines/5120172797238181888 current state:\n",
      "PipelineState.PIPELINE_STATE_RUNNING\n",
      "CustomContainerTrainingJob projects/939282436854/locations/us-central1/trainingPipelines/5120172797238181888 current state:\n",
      "PipelineState.PIPELINE_STATE_RUNNING\n",
      "CustomContainerTrainingJob projects/939282436854/locations/us-central1/trainingPipelines/5120172797238181888 current state:\n",
      "PipelineState.PIPELINE_STATE_RUNNING\n",
      "CustomContainerTrainingJob projects/939282436854/locations/us-central1/trainingPipelines/5120172797238181888 current state:\n",
      "PipelineState.PIPELINE_STATE_RUNNING\n"
     ]
    }
   ],
   "source": [
    "# The Gemma base model.\n",
    "KAGGLE_MODEL_ID = \"gemma_2b_en\"  \n",
    "num_train_subset_samples = 2000  \n",
    "\n",
    "num_epochs = 1 \n",
    "# Learning rate.\n",
    "learning_rate = 5e-5  \n",
    "# Weight decay.\n",
    "weight_decay = 0.01 \n",
    "# Input sequence length. It determines the memory required by the model.\n",
    "input_sequence_length = 512\n",
    "# LoRA rank.\n",
    "lora_rank = 4\n",
    "# Batch size for training.\n",
    "train_batch_size = 2\n",
    "# The KerasNLP checkpoint filename.\n",
    "# Note: Do not add folder name here.\n",
    "checkpoint_filename = \"fine_tuned.weights.h5\"\n",
    "\n",
    "# Worker pool spec.\n",
    "machine_type = \"cloud-tpu\"\n",
    "# NOTE: The models have been test only with 8 cores.\n",
    "accelerator_type = \"TPU_V3\"\n",
    "# Number of TPU cores.\n",
    "accelerator_count = 8\n",
    "# Set model parallelism related parameters for 8 cores.\n",
    "model_parallel_batch_dim = 1\n",
    "model_parallel_model_dim = 8\n",
    "\n",
    "replica_count = 1\n",
    "\n",
    "# Setup training job.\n",
    "job_name = get_job_name_with_datetime(\"gemma-keras-lora-train\")\n",
    "\n",
    "# Pass training arguments and launch job.\n",
    "train_job = aiplatform.CustomContainerTrainingJob(\n",
    "    display_name=job_name,\n",
    "    container_uri=KERAS_TRAIN_DOCKER_URI,\n",
    ")\n",
    "\n",
    "# Create a GCS folder to save the finetuned model.\n",
    "output_folder = os.path.join(BUCKET_URI, job_name)\n",
    "output_folder_gcsfuse = output_folder.replace(\"gs://\", \"/gcs/\")\n",
    "\n",
    "train_job.run(\n",
    "    args=[\n",
    "        f\"--model_type={KAGGLE_MODEL_ID}\",\n",
    "        f\"--num_epochs={num_epochs}\",\n",
    "        f\"--learning_rate={learning_rate}\",\n",
    "        f\"--weight_decay={weight_decay}\",\n",
    "        f\"--input_sequence_length={input_sequence_length}\",\n",
    "        f\"--lora_rank={lora_rank}\",\n",
    "        f\"--model_parallel_batch_dim={model_parallel_batch_dim}\",\n",
    "        f\"--model_parallel_model_dim={model_parallel_model_dim}\",\n",
    "        f\"--tfds_dataset_name={tfds_dataset_name}\",\n",
    "        f\"--tfds_dataset_split={tfds_dataset_split}\",\n",
    "        f\"--jsonl_dataset_file={jsonl_dataset_uri_gcsfuse}\",\n",
    "        f\"--template={template}\",\n",
    "        f\"--train_batch_size={train_batch_size}\",\n",
    "        f\"--num_train_subset_samples={num_train_subset_samples}\",\n",
    "        f\"--output_folder={output_folder_gcsfuse}\",\n",
    "        f\"--checkpoint_filename={checkpoint_filename}\",\n",
    "    ],\n",
    "    environment_variables={\n",
    "        \"KAGGLE_USERNAME\": \"davidnet\",\n",
    "        \"KAGGLE_KEY\": \"Don't Tread on Me :)\",\n",
    "    },\n",
    "    replica_count=replica_count,\n",
    "    machine_type=machine_type,\n",
    "    accelerator_type=accelerator_type,\n",
    "    accelerator_count=accelerator_count,\n",
    "    service_account=SERVICE_ACCOUNT,\n",
    ")\n",
    "\n",
    "print(\"Trained model is saved in: \", output_folder)\n"
   ]
  }
 ],
 "metadata": {
  "kernelspec": {
   "display_name": ".venv",
   "language": "python",
   "name": "python3"
  },
  "language_info": {
   "codemirror_mode": {
    "name": "ipython",
    "version": 3
   },
   "file_extension": ".py",
   "mimetype": "text/x-python",
   "name": "python",
   "nbconvert_exporter": "python",
   "pygments_lexer": "ipython3",
   "version": "3.10.12"
  }
 },
 "nbformat": 4,
 "nbformat_minor": 2
}
